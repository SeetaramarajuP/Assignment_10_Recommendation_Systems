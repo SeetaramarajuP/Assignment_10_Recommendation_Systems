{
  "cells": [
    {
      "metadata": {
        "ExecuteTime": {
          "end_time": "2023-06-04T17:21:30.779720Z",
          "start_time": "2023-06-04T17:21:30.763719Z"
        },
        "trusted": false
      },
      "id": "3f2b8fba",
      "cell_type": "code",
      "source": "import pandas as pd \nimport matplotlib.pyplot as plt\nimport numpy as np\n",
      "execution_count": 21,
      "outputs": []
    },
    {
      "metadata": {
        "ExecuteTime": {
          "end_time": "2023-06-04T17:21:33.451375Z",
          "start_time": "2023-06-04T17:21:33.387417Z"
        },
        "trusted": false
      },
      "id": "e8137d80",
      "cell_type": "code",
      "source": "book=pd.read_csv('book1.csv',encoding='latin1')\nbook",
      "execution_count": 22,
      "outputs": [
        {
          "data": {
            "text/html": "<div>\n<style scoped>\n    .dataframe tbody tr th:only-of-type {\n        vertical-align: middle;\n    }\n\n    .dataframe tbody tr th {\n        vertical-align: top;\n    }\n\n    .dataframe thead th {\n        text-align: right;\n    }\n</style>\n<table border=\"1\" class=\"dataframe\">\n  <thead>\n    <tr style=\"text-align: right;\">\n      <th></th>\n      <th>Unnamed: 0</th>\n      <th>User.ID</th>\n      <th>Book.Title</th>\n      <th>Book.Rating</th>\n    </tr>\n  </thead>\n  <tbody>\n    <tr>\n      <th>0</th>\n      <td>1</td>\n      <td>276726</td>\n      <td>Classical Mythology</td>\n      <td>5</td>\n    </tr>\n    <tr>\n      <th>1</th>\n      <td>2</td>\n      <td>276729</td>\n      <td>Clara Callan</td>\n      <td>3</td>\n    </tr>\n    <tr>\n      <th>2</th>\n      <td>3</td>\n      <td>276729</td>\n      <td>Decision in Normandy</td>\n      <td>6</td>\n    </tr>\n    <tr>\n      <th>3</th>\n      <td>4</td>\n      <td>276736</td>\n      <td>Flu: The Story of the Great Influenza Pandemic...</td>\n      <td>8</td>\n    </tr>\n    <tr>\n      <th>4</th>\n      <td>5</td>\n      <td>276737</td>\n      <td>The Mummies of Urumchi</td>\n      <td>6</td>\n    </tr>\n    <tr>\n      <th>...</th>\n      <td>...</td>\n      <td>...</td>\n      <td>...</td>\n      <td>...</td>\n    </tr>\n    <tr>\n      <th>9995</th>\n      <td>9996</td>\n      <td>162121</td>\n      <td>American Fried: Adventures of a Happy Eater.</td>\n      <td>7</td>\n    </tr>\n    <tr>\n      <th>9996</th>\n      <td>9997</td>\n      <td>162121</td>\n      <td>Cannibal In Manhattan</td>\n      <td>9</td>\n    </tr>\n    <tr>\n      <th>9997</th>\n      <td>9998</td>\n      <td>162121</td>\n      <td>How to Flirt: A Practical Guide</td>\n      <td>7</td>\n    </tr>\n    <tr>\n      <th>9998</th>\n      <td>9999</td>\n      <td>162121</td>\n      <td>Twilight</td>\n      <td>8</td>\n    </tr>\n    <tr>\n      <th>9999</th>\n      <td>10000</td>\n      <td>162129</td>\n      <td>Kids Say the Darndest Things</td>\n      <td>6</td>\n    </tr>\n  </tbody>\n</table>\n<p>10000 rows × 4 columns</p>\n</div>",
            "text/plain": "      Unnamed: 0  User.ID                                         Book.Title  \\\n0              1   276726                                Classical Mythology   \n1              2   276729                                       Clara Callan   \n2              3   276729                               Decision in Normandy   \n3              4   276736  Flu: The Story of the Great Influenza Pandemic...   \n4              5   276737                             The Mummies of Urumchi   \n...          ...      ...                                                ...   \n9995        9996   162121       American Fried: Adventures of a Happy Eater.   \n9996        9997   162121                              Cannibal In Manhattan   \n9997        9998   162121                    How to Flirt: A Practical Guide   \n9998        9999   162121                                           Twilight   \n9999       10000   162129                       Kids Say the Darndest Things   \n\n      Book.Rating  \n0               5  \n1               3  \n2               6  \n3               8  \n4               6  \n...           ...  \n9995            7  \n9996            9  \n9997            7  \n9998            8  \n9999            6  \n\n[10000 rows x 4 columns]"
          },
          "execution_count": 22,
          "metadata": {},
          "output_type": "execute_result"
        }
      ]
    },
    {
      "metadata": {
        "ExecuteTime": {
          "end_time": "2023-06-04T17:21:44.536189Z",
          "start_time": "2023-06-04T17:21:44.520186Z"
        },
        "trusted": false
      },
      "id": "fec6dd03",
      "cell_type": "code",
      "source": "len(book['User.ID'].unique())",
      "execution_count": 23,
      "outputs": [
        {
          "data": {
            "text/plain": "2182"
          },
          "execution_count": 23,
          "metadata": {},
          "output_type": "execute_result"
        }
      ]
    },
    {
      "metadata": {
        "ExecuteTime": {
          "end_time": "2023-06-04T17:21:46.208711Z",
          "start_time": "2023-06-04T17:21:46.171601Z"
        },
        "trusted": false
      },
      "id": "12787208",
      "cell_type": "code",
      "source": "len(book['Book.Title'].unique())",
      "execution_count": 24,
      "outputs": [
        {
          "data": {
            "text/plain": "9659"
          },
          "execution_count": 24,
          "metadata": {},
          "output_type": "execute_result"
        }
      ]
    },
    {
      "metadata": {
        "ExecuteTime": {
          "end_time": "2023-06-04T17:25:59.709658Z",
          "start_time": "2023-06-04T17:25:59.666043Z"
        },
        "trusted": false
      },
      "id": "963453b8",
      "cell_type": "code",
      "source": "book.info()",
      "execution_count": 27,
      "outputs": [
        {
          "name": "stdout",
          "output_type": "stream",
          "text": "<class 'pandas.core.frame.DataFrame'>\nRangeIndex: 10000 entries, 0 to 9999\nData columns (total 4 columns):\n #   Column       Non-Null Count  Dtype \n---  ------       --------------  ----- \n 0   Unnamed: 0   10000 non-null  int64 \n 1   User.ID      10000 non-null  int64 \n 2   Book.Title   10000 non-null  object\n 3   Book.Rating  10000 non-null  int64 \ndtypes: int64(3), object(1)\nmemory usage: 312.6+ KB\n"
        }
      ]
    },
    {
      "metadata": {
        "ExecuteTime": {
          "end_time": "2023-06-04T17:27:04.871174Z",
          "start_time": "2023-06-04T17:27:04.858415Z"
        },
        "trusted": false
      },
      "id": "08baeee9",
      "cell_type": "code",
      "source": "book =book.sort_values(by=['User.ID'])",
      "execution_count": 29,
      "outputs": []
    },
    {
      "metadata": {
        "ExecuteTime": {
          "end_time": "2023-06-04T17:27:19.208966Z",
          "start_time": "2023-06-04T17:27:19.179972Z"
        },
        "trusted": false
      },
      "id": "dd8461f0",
      "cell_type": "code",
      "source": " book",
      "execution_count": 30,
      "outputs": [
        {
          "data": {
            "text/html": "<div>\n<style scoped>\n    .dataframe tbody tr th:only-of-type {\n        vertical-align: middle;\n    }\n\n    .dataframe tbody tr th {\n        vertical-align: top;\n    }\n\n    .dataframe thead th {\n        text-align: right;\n    }\n</style>\n<table border=\"1\" class=\"dataframe\">\n  <thead>\n    <tr style=\"text-align: right;\">\n      <th></th>\n      <th>Unnamed: 0</th>\n      <th>User.ID</th>\n      <th>Book.Title</th>\n      <th>Book.Rating</th>\n    </tr>\n  </thead>\n  <tbody>\n    <tr>\n      <th>2401</th>\n      <td>2402</td>\n      <td>8</td>\n      <td>Wings</td>\n      <td>5</td>\n    </tr>\n    <tr>\n      <th>2400</th>\n      <td>2401</td>\n      <td>8</td>\n      <td>The Western way: A practical guide to the West...</td>\n      <td>5</td>\n    </tr>\n    <tr>\n      <th>2399</th>\n      <td>2400</td>\n      <td>8</td>\n      <td>Ancient Celtic Romances</td>\n      <td>5</td>\n    </tr>\n    <tr>\n      <th>2402</th>\n      <td>2403</td>\n      <td>8</td>\n      <td>Truckers</td>\n      <td>5</td>\n    </tr>\n    <tr>\n      <th>2405</th>\n      <td>2406</td>\n      <td>8</td>\n      <td>The Art Of Celtia</td>\n      <td>7</td>\n    </tr>\n    <tr>\n      <th>...</th>\n      <td>...</td>\n      <td>...</td>\n      <td>...</td>\n      <td>...</td>\n    </tr>\n    <tr>\n      <th>2395</th>\n      <td>2396</td>\n      <td>278854</td>\n      <td>La crÃ³nica del PerÃº (CrÃ³nicas de AmÃ©rica)</td>\n      <td>7</td>\n    </tr>\n    <tr>\n      <th>2398</th>\n      <td>2399</td>\n      <td>278854</td>\n      <td>Celtic Mythology (Library of the World's Myths...</td>\n      <td>8</td>\n    </tr>\n    <tr>\n      <th>2393</th>\n      <td>2394</td>\n      <td>278854</td>\n      <td>A corrente de Trewis Scott</td>\n      <td>7</td>\n    </tr>\n    <tr>\n      <th>2394</th>\n      <td>2395</td>\n      <td>278854</td>\n      <td>As valkÃ­rias</td>\n      <td>7</td>\n    </tr>\n    <tr>\n      <th>2397</th>\n      <td>2398</td>\n      <td>278854</td>\n      <td>A Treasury of Irish Myth, Legend, and Folklore</td>\n      <td>6</td>\n    </tr>\n  </tbody>\n</table>\n<p>10000 rows × 4 columns</p>\n</div>",
            "text/plain": "      Unnamed: 0  User.ID                                         Book.Title  \\\n2401        2402        8                                              Wings   \n2400        2401        8  The Western way: A practical guide to the West...   \n2399        2400        8                            Ancient Celtic Romances   \n2402        2403        8                                           Truckers   \n2405        2406        8                                  The Art Of Celtia   \n...          ...      ...                                                ...   \n2395        2396   278854      La crÃ³nica del PerÃº (CrÃ³nicas de AmÃ©rica)   \n2398        2399   278854  Celtic Mythology (Library of the World's Myths...   \n2393        2394   278854                         A corrente de Trewis Scott   \n2394        2395   278854                                      As valkÃ­rias   \n2397        2398   278854     A Treasury of Irish Myth, Legend, and Folklore   \n\n      Book.Rating  \n2401            5  \n2400            5  \n2399            5  \n2402            5  \n2405            7  \n...           ...  \n2395            7  \n2398            8  \n2393            7  \n2394            7  \n2397            6  \n\n[10000 rows x 4 columns]"
          },
          "execution_count": 30,
          "metadata": {},
          "output_type": "execute_result"
        }
      ]
    },
    {
      "metadata": {
        "ExecuteTime": {
          "end_time": "2023-06-04T17:27:56.710494Z",
          "start_time": "2023-06-04T17:27:56.674822Z"
        },
        "trusted": false
      },
      "id": "d3d166c1",
      "cell_type": "code",
      "source": "book=book.iloc[:,1:]\nbook",
      "execution_count": 31,
      "outputs": [
        {
          "data": {
            "text/html": "<div>\n<style scoped>\n    .dataframe tbody tr th:only-of-type {\n        vertical-align: middle;\n    }\n\n    .dataframe tbody tr th {\n        vertical-align: top;\n    }\n\n    .dataframe thead th {\n        text-align: right;\n    }\n</style>\n<table border=\"1\" class=\"dataframe\">\n  <thead>\n    <tr style=\"text-align: right;\">\n      <th></th>\n      <th>User.ID</th>\n      <th>Book.Title</th>\n      <th>Book.Rating</th>\n    </tr>\n  </thead>\n  <tbody>\n    <tr>\n      <th>2401</th>\n      <td>8</td>\n      <td>Wings</td>\n      <td>5</td>\n    </tr>\n    <tr>\n      <th>2400</th>\n      <td>8</td>\n      <td>The Western way: A practical guide to the West...</td>\n      <td>5</td>\n    </tr>\n    <tr>\n      <th>2399</th>\n      <td>8</td>\n      <td>Ancient Celtic Romances</td>\n      <td>5</td>\n    </tr>\n    <tr>\n      <th>2402</th>\n      <td>8</td>\n      <td>Truckers</td>\n      <td>5</td>\n    </tr>\n    <tr>\n      <th>2405</th>\n      <td>8</td>\n      <td>The Art Of Celtia</td>\n      <td>7</td>\n    </tr>\n    <tr>\n      <th>...</th>\n      <td>...</td>\n      <td>...</td>\n      <td>...</td>\n    </tr>\n    <tr>\n      <th>2395</th>\n      <td>278854</td>\n      <td>La crÃ³nica del PerÃº (CrÃ³nicas de AmÃ©rica)</td>\n      <td>7</td>\n    </tr>\n    <tr>\n      <th>2398</th>\n      <td>278854</td>\n      <td>Celtic Mythology (Library of the World's Myths...</td>\n      <td>8</td>\n    </tr>\n    <tr>\n      <th>2393</th>\n      <td>278854</td>\n      <td>A corrente de Trewis Scott</td>\n      <td>7</td>\n    </tr>\n    <tr>\n      <th>2394</th>\n      <td>278854</td>\n      <td>As valkÃ­rias</td>\n      <td>7</td>\n    </tr>\n    <tr>\n      <th>2397</th>\n      <td>278854</td>\n      <td>A Treasury of Irish Myth, Legend, and Folklore</td>\n      <td>6</td>\n    </tr>\n  </tbody>\n</table>\n<p>10000 rows × 3 columns</p>\n</div>",
            "text/plain": "      User.ID                                         Book.Title  Book.Rating\n2401        8                                              Wings            5\n2400        8  The Western way: A practical guide to the West...            5\n2399        8                            Ancient Celtic Romances            5\n2402        8                                           Truckers            5\n2405        8                                  The Art Of Celtia            7\n...       ...                                                ...          ...\n2395   278854      La crÃ³nica del PerÃº (CrÃ³nicas de AmÃ©rica)            7\n2398   278854  Celtic Mythology (Library of the World's Myths...            8\n2393   278854                         A corrente de Trewis Scott            7\n2394   278854                                      As valkÃ­rias            7\n2397   278854     A Treasury of Irish Myth, Legend, and Folklore            6\n\n[10000 rows x 3 columns]"
          },
          "execution_count": 31,
          "metadata": {},
          "output_type": "execute_result"
        }
      ]
    },
    {
      "metadata": {
        "ExecuteTime": {
          "end_time": "2023-06-04T17:29:33.794578Z",
          "start_time": "2023-06-04T17:29:32.379493Z"
        },
        "trusted": false
      },
      "id": "69443a02",
      "cell_type": "code",
      "source": "book_matrix = book.pivot_table(index='User.ID',columns='Book.Title',values='Book.Rating').reset_index(drop=True)",
      "execution_count": 33,
      "outputs": []
    },
    {
      "metadata": {
        "ExecuteTime": {
          "end_time": "2023-06-04T17:32:15.299062Z",
          "start_time": "2023-06-04T17:32:15.283065Z"
        },
        "trusted": false
      },
      "id": "cf073d6e",
      "cell_type": "code",
      "source": "book_matrix.index=book['User.ID'].unique()",
      "execution_count": 35,
      "outputs": []
    },
    {
      "metadata": {
        "ExecuteTime": {
          "end_time": "2023-06-04T17:32:25.698266Z",
          "start_time": "2023-06-04T17:32:25.596975Z"
        },
        "trusted": false
      },
      "id": "19c8d65f",
      "cell_type": "code",
      "source": "book_matrix.fillna(0,inplace=True)",
      "execution_count": 36,
      "outputs": []
    },
    {
      "metadata": {
        "ExecuteTime": {
          "end_time": "2023-06-04T17:33:37.891244Z",
          "start_time": "2023-06-04T17:33:37.875245Z"
        },
        "trusted": false
      },
      "id": "4987f72f",
      "cell_type": "code",
      "source": "from sklearn.metrics import pairwise_distances\nfrom scipy.spatial.distance import cosine",
      "execution_count": 37,
      "outputs": []
    },
    {
      "metadata": {
        "ExecuteTime": {
          "end_time": "2023-06-04T17:35:33.750462Z",
          "start_time": "2023-06-04T17:35:31.775731Z"
        },
        "trusted": false
      },
      "id": "9590fd66",
      "cell_type": "code",
      "source": "user_sim=1-pairwise_distances(book_matrix.values,metric='cosine')",
      "execution_count": 38,
      "outputs": []
    },
    {
      "metadata": {
        "ExecuteTime": {
          "end_time": "2023-06-04T17:35:48.414027Z",
          "start_time": "2023-06-04T17:35:48.388206Z"
        },
        "trusted": false
      },
      "id": "fa0a5519",
      "cell_type": "code",
      "source": "user_sim",
      "execution_count": 39,
      "outputs": [
        {
          "data": {
            "text/plain": "array([[1., 0., 0., ..., 0., 0., 0.],\n       [0., 1., 0., ..., 0., 0., 0.],\n       [0., 0., 1., ..., 0., 0., 0.],\n       ...,\n       [0., 0., 0., ..., 1., 0., 0.],\n       [0., 0., 0., ..., 0., 1., 0.],\n       [0., 0., 0., ..., 0., 0., 1.]])"
          },
          "execution_count": 39,
          "metadata": {},
          "output_type": "execute_result"
        }
      ]
    },
    {
      "metadata": {
        "ExecuteTime": {
          "end_time": "2023-06-04T17:36:21.776575Z",
          "start_time": "2023-06-04T17:36:21.768576Z"
        },
        "trusted": false
      },
      "id": "c7568012",
      "cell_type": "code",
      "source": "user_sim_df=pd.DataFrame(user_sim)",
      "execution_count": 40,
      "outputs": []
    },
    {
      "metadata": {
        "ExecuteTime": {
          "end_time": "2023-06-04T17:38:06.501757Z",
          "start_time": "2023-06-04T17:38:06.447644Z"
        },
        "trusted": false
      },
      "id": "43075049",
      "cell_type": "code",
      "source": "user_sim_df.index=book['User.ID'].unique()\nuser_sim_df.columns=book['User.ID'].unique()\nuser_sim_df.iloc[:5,:5]",
      "execution_count": 41,
      "outputs": [
        {
          "data": {
            "text/html": "<div>\n<style scoped>\n    .dataframe tbody tr th:only-of-type {\n        vertical-align: middle;\n    }\n\n    .dataframe tbody tr th {\n        vertical-align: top;\n    }\n\n    .dataframe thead th {\n        text-align: right;\n    }\n</style>\n<table border=\"1\" class=\"dataframe\">\n  <thead>\n    <tr style=\"text-align: right;\">\n      <th></th>\n      <th>8</th>\n      <th>9</th>\n      <th>10</th>\n      <th>12</th>\n      <th>14</th>\n    </tr>\n  </thead>\n  <tbody>\n    <tr>\n      <th>8</th>\n      <td>1.0</td>\n      <td>0.0</td>\n      <td>0.0</td>\n      <td>0.0</td>\n      <td>0.0</td>\n    </tr>\n    <tr>\n      <th>9</th>\n      <td>0.0</td>\n      <td>1.0</td>\n      <td>0.0</td>\n      <td>0.0</td>\n      <td>0.0</td>\n    </tr>\n    <tr>\n      <th>10</th>\n      <td>0.0</td>\n      <td>0.0</td>\n      <td>1.0</td>\n      <td>0.0</td>\n      <td>0.0</td>\n    </tr>\n    <tr>\n      <th>12</th>\n      <td>0.0</td>\n      <td>0.0</td>\n      <td>0.0</td>\n      <td>1.0</td>\n      <td>0.0</td>\n    </tr>\n    <tr>\n      <th>14</th>\n      <td>0.0</td>\n      <td>0.0</td>\n      <td>0.0</td>\n      <td>0.0</td>\n      <td>1.0</td>\n    </tr>\n  </tbody>\n</table>\n</div>",
            "text/plain": "     8    9    10   12   14\n8   1.0  0.0  0.0  0.0  0.0\n9   0.0  1.0  0.0  0.0  0.0\n10  0.0  0.0  1.0  0.0  0.0\n12  0.0  0.0  0.0  1.0  0.0\n14  0.0  0.0  0.0  0.0  1.0"
          },
          "execution_count": 41,
          "metadata": {},
          "output_type": "execute_result"
        }
      ]
    },
    {
      "metadata": {
        "ExecuteTime": {
          "end_time": "2023-06-04T17:48:44.568640Z",
          "start_time": "2023-06-04T17:48:44.469819Z"
        },
        "trusted": false
      },
      "id": "6eb704f8",
      "cell_type": "code",
      "source": "np.fill_diagonal(user_sim,0)\nuser_sim_df.iloc[:,:]",
      "execution_count": 47,
      "outputs": [
        {
          "data": {
            "text/html": "<div>\n<style scoped>\n    .dataframe tbody tr th:only-of-type {\n        vertical-align: middle;\n    }\n\n    .dataframe tbody tr th {\n        vertical-align: top;\n    }\n\n    .dataframe thead th {\n        text-align: right;\n    }\n</style>\n<table border=\"1\" class=\"dataframe\">\n  <thead>\n    <tr style=\"text-align: right;\">\n      <th></th>\n      <th>8</th>\n      <th>9</th>\n      <th>10</th>\n      <th>12</th>\n      <th>14</th>\n      <th>16</th>\n      <th>17</th>\n      <th>19</th>\n      <th>22</th>\n      <th>26</th>\n      <th>...</th>\n      <th>278831</th>\n      <th>278832</th>\n      <th>278836</th>\n      <th>278843</th>\n      <th>278844</th>\n      <th>278846</th>\n      <th>278849</th>\n      <th>278851</th>\n      <th>278852</th>\n      <th>278854</th>\n    </tr>\n  </thead>\n  <tbody>\n    <tr>\n      <th>8</th>\n      <td>0.0</td>\n      <td>0.0</td>\n      <td>0.0</td>\n      <td>0.0</td>\n      <td>0.0</td>\n      <td>0.0</td>\n      <td>0.0</td>\n      <td>0.0</td>\n      <td>0.0</td>\n      <td>0.0</td>\n      <td>...</td>\n      <td>0.0</td>\n      <td>0.0</td>\n      <td>0.0</td>\n      <td>0.0</td>\n      <td>0.0</td>\n      <td>0.0</td>\n      <td>0.0</td>\n      <td>0.0</td>\n      <td>0.0</td>\n      <td>0.0</td>\n    </tr>\n    <tr>\n      <th>9</th>\n      <td>0.0</td>\n      <td>0.0</td>\n      <td>0.0</td>\n      <td>0.0</td>\n      <td>0.0</td>\n      <td>0.0</td>\n      <td>0.0</td>\n      <td>0.0</td>\n      <td>0.0</td>\n      <td>0.0</td>\n      <td>...</td>\n      <td>0.0</td>\n      <td>0.0</td>\n      <td>0.0</td>\n      <td>0.0</td>\n      <td>0.0</td>\n      <td>0.0</td>\n      <td>0.0</td>\n      <td>0.0</td>\n      <td>0.0</td>\n      <td>0.0</td>\n    </tr>\n    <tr>\n      <th>10</th>\n      <td>0.0</td>\n      <td>0.0</td>\n      <td>0.0</td>\n      <td>0.0</td>\n      <td>0.0</td>\n      <td>0.0</td>\n      <td>0.0</td>\n      <td>0.0</td>\n      <td>0.0</td>\n      <td>0.0</td>\n      <td>...</td>\n      <td>0.0</td>\n      <td>0.0</td>\n      <td>0.0</td>\n      <td>0.0</td>\n      <td>0.0</td>\n      <td>0.0</td>\n      <td>0.0</td>\n      <td>0.0</td>\n      <td>0.0</td>\n      <td>0.0</td>\n    </tr>\n    <tr>\n      <th>12</th>\n      <td>0.0</td>\n      <td>0.0</td>\n      <td>0.0</td>\n      <td>0.0</td>\n      <td>0.0</td>\n      <td>0.0</td>\n      <td>0.0</td>\n      <td>0.0</td>\n      <td>0.0</td>\n      <td>0.0</td>\n      <td>...</td>\n      <td>0.0</td>\n      <td>0.0</td>\n      <td>0.0</td>\n      <td>0.0</td>\n      <td>0.0</td>\n      <td>0.0</td>\n      <td>0.0</td>\n      <td>0.0</td>\n      <td>0.0</td>\n      <td>0.0</td>\n    </tr>\n    <tr>\n      <th>14</th>\n      <td>0.0</td>\n      <td>0.0</td>\n      <td>0.0</td>\n      <td>0.0</td>\n      <td>0.0</td>\n      <td>0.0</td>\n      <td>0.0</td>\n      <td>0.0</td>\n      <td>0.0</td>\n      <td>0.0</td>\n      <td>...</td>\n      <td>0.0</td>\n      <td>0.0</td>\n      <td>0.0</td>\n      <td>0.0</td>\n      <td>0.0</td>\n      <td>0.0</td>\n      <td>0.0</td>\n      <td>0.0</td>\n      <td>0.0</td>\n      <td>0.0</td>\n    </tr>\n    <tr>\n      <th>...</th>\n      <td>...</td>\n      <td>...</td>\n      <td>...</td>\n      <td>...</td>\n      <td>...</td>\n      <td>...</td>\n      <td>...</td>\n      <td>...</td>\n      <td>...</td>\n      <td>...</td>\n      <td>...</td>\n      <td>...</td>\n      <td>...</td>\n      <td>...</td>\n      <td>...</td>\n      <td>...</td>\n      <td>...</td>\n      <td>...</td>\n      <td>...</td>\n      <td>...</td>\n      <td>...</td>\n    </tr>\n    <tr>\n      <th>278846</th>\n      <td>0.0</td>\n      <td>0.0</td>\n      <td>0.0</td>\n      <td>0.0</td>\n      <td>0.0</td>\n      <td>0.0</td>\n      <td>0.0</td>\n      <td>0.0</td>\n      <td>0.0</td>\n      <td>0.0</td>\n      <td>...</td>\n      <td>0.0</td>\n      <td>0.0</td>\n      <td>0.0</td>\n      <td>0.0</td>\n      <td>0.0</td>\n      <td>0.0</td>\n      <td>0.0</td>\n      <td>0.0</td>\n      <td>0.0</td>\n      <td>0.0</td>\n    </tr>\n    <tr>\n      <th>278849</th>\n      <td>0.0</td>\n      <td>0.0</td>\n      <td>0.0</td>\n      <td>0.0</td>\n      <td>0.0</td>\n      <td>0.0</td>\n      <td>0.0</td>\n      <td>0.0</td>\n      <td>0.0</td>\n      <td>0.0</td>\n      <td>...</td>\n      <td>0.0</td>\n      <td>0.0</td>\n      <td>0.0</td>\n      <td>0.0</td>\n      <td>0.0</td>\n      <td>0.0</td>\n      <td>0.0</td>\n      <td>0.0</td>\n      <td>0.0</td>\n      <td>0.0</td>\n    </tr>\n    <tr>\n      <th>278851</th>\n      <td>0.0</td>\n      <td>0.0</td>\n      <td>0.0</td>\n      <td>0.0</td>\n      <td>0.0</td>\n      <td>0.0</td>\n      <td>0.0</td>\n      <td>0.0</td>\n      <td>0.0</td>\n      <td>0.0</td>\n      <td>...</td>\n      <td>0.0</td>\n      <td>0.0</td>\n      <td>0.0</td>\n      <td>0.0</td>\n      <td>0.0</td>\n      <td>0.0</td>\n      <td>0.0</td>\n      <td>0.0</td>\n      <td>0.0</td>\n      <td>0.0</td>\n    </tr>\n    <tr>\n      <th>278852</th>\n      <td>0.0</td>\n      <td>0.0</td>\n      <td>0.0</td>\n      <td>0.0</td>\n      <td>0.0</td>\n      <td>0.0</td>\n      <td>0.0</td>\n      <td>0.0</td>\n      <td>0.0</td>\n      <td>0.0</td>\n      <td>...</td>\n      <td>0.0</td>\n      <td>0.0</td>\n      <td>0.0</td>\n      <td>0.0</td>\n      <td>0.0</td>\n      <td>0.0</td>\n      <td>0.0</td>\n      <td>0.0</td>\n      <td>0.0</td>\n      <td>0.0</td>\n    </tr>\n    <tr>\n      <th>278854</th>\n      <td>0.0</td>\n      <td>0.0</td>\n      <td>0.0</td>\n      <td>0.0</td>\n      <td>0.0</td>\n      <td>0.0</td>\n      <td>0.0</td>\n      <td>0.0</td>\n      <td>0.0</td>\n      <td>0.0</td>\n      <td>...</td>\n      <td>0.0</td>\n      <td>0.0</td>\n      <td>0.0</td>\n      <td>0.0</td>\n      <td>0.0</td>\n      <td>0.0</td>\n      <td>0.0</td>\n      <td>0.0</td>\n      <td>0.0</td>\n      <td>0.0</td>\n    </tr>\n  </tbody>\n</table>\n<p>2182 rows × 2182 columns</p>\n</div>",
            "text/plain": "        8       9       10      12      14      16      17      19      \\\n8          0.0     0.0     0.0     0.0     0.0     0.0     0.0     0.0   \n9          0.0     0.0     0.0     0.0     0.0     0.0     0.0     0.0   \n10         0.0     0.0     0.0     0.0     0.0     0.0     0.0     0.0   \n12         0.0     0.0     0.0     0.0     0.0     0.0     0.0     0.0   \n14         0.0     0.0     0.0     0.0     0.0     0.0     0.0     0.0   \n...        ...     ...     ...     ...     ...     ...     ...     ...   \n278846     0.0     0.0     0.0     0.0     0.0     0.0     0.0     0.0   \n278849     0.0     0.0     0.0     0.0     0.0     0.0     0.0     0.0   \n278851     0.0     0.0     0.0     0.0     0.0     0.0     0.0     0.0   \n278852     0.0     0.0     0.0     0.0     0.0     0.0     0.0     0.0   \n278854     0.0     0.0     0.0     0.0     0.0     0.0     0.0     0.0   \n\n        22      26      ...  278831  278832  278836  278843  278844  278846  \\\n8          0.0     0.0  ...     0.0     0.0     0.0     0.0     0.0     0.0   \n9          0.0     0.0  ...     0.0     0.0     0.0     0.0     0.0     0.0   \n10         0.0     0.0  ...     0.0     0.0     0.0     0.0     0.0     0.0   \n12         0.0     0.0  ...     0.0     0.0     0.0     0.0     0.0     0.0   \n14         0.0     0.0  ...     0.0     0.0     0.0     0.0     0.0     0.0   \n...        ...     ...  ...     ...     ...     ...     ...     ...     ...   \n278846     0.0     0.0  ...     0.0     0.0     0.0     0.0     0.0     0.0   \n278849     0.0     0.0  ...     0.0     0.0     0.0     0.0     0.0     0.0   \n278851     0.0     0.0  ...     0.0     0.0     0.0     0.0     0.0     0.0   \n278852     0.0     0.0  ...     0.0     0.0     0.0     0.0     0.0     0.0   \n278854     0.0     0.0  ...     0.0     0.0     0.0     0.0     0.0     0.0   \n\n        278849  278851  278852  278854  \n8          0.0     0.0     0.0     0.0  \n9          0.0     0.0     0.0     0.0  \n10         0.0     0.0     0.0     0.0  \n12         0.0     0.0     0.0     0.0  \n14         0.0     0.0     0.0     0.0  \n...        ...     ...     ...     ...  \n278846     0.0     0.0     0.0     0.0  \n278849     0.0     0.0     0.0     0.0  \n278851     0.0     0.0     0.0     0.0  \n278852     0.0     0.0     0.0     0.0  \n278854     0.0     0.0     0.0     0.0  \n\n[2182 rows x 2182 columns]"
          },
          "execution_count": 47,
          "metadata": {},
          "output_type": "execute_result"
        }
      ]
    },
    {
      "metadata": {
        "ExecuteTime": {
          "end_time": "2023-06-04T17:59:53.237034Z",
          "start_time": "2023-06-04T17:59:53.182872Z"
        },
        "trusted": false
      },
      "id": "155caf72",
      "cell_type": "code",
      "source": "user_sim_df.idxmax(axis=1)[:20]",
      "execution_count": 58,
      "outputs": [
        {
          "data": {
            "text/plain": "8          8\n9          8\n10         8\n12         8\n14         8\n16         8\n17         8\n19    278418\n22         8\n26         8\n32         8\n39         8\n42         8\n44         8\n51      3757\n53      1996\n56         8\n64         8\n67         8\n69         8\ndtype: int64"
          },
          "execution_count": 58,
          "metadata": {},
          "output_type": "execute_result"
        }
      ]
    },
    {
      "metadata": {
        "ExecuteTime": {
          "end_time": "2023-06-04T18:01:48.308193Z",
          "start_time": "2023-06-04T18:01:48.273784Z"
        },
        "trusted": false
      },
      "id": "0a6b92ef",
      "cell_type": "code",
      "source": "readers = book[(book['User.ID']==19) | (book['User.ID']==278418)]\nreaders",
      "execution_count": 61,
      "outputs": [
        {
          "data": {
            "text/html": "<div>\n<style scoped>\n    .dataframe tbody tr th:only-of-type {\n        vertical-align: middle;\n    }\n\n    .dataframe tbody tr th {\n        vertical-align: top;\n    }\n\n    .dataframe thead th {\n        text-align: right;\n    }\n</style>\n<table border=\"1\" class=\"dataframe\">\n  <thead>\n    <tr style=\"text-align: right;\">\n      <th></th>\n      <th>User.ID</th>\n      <th>Book.Title</th>\n      <th>Book.Rating</th>\n    </tr>\n  </thead>\n  <tbody>\n    <tr>\n      <th>2417</th>\n      <td>19</td>\n      <td>The Murder Book</td>\n      <td>7</td>\n    </tr>\n    <tr>\n      <th>1982</th>\n      <td>278418</td>\n      <td>City of Bones</td>\n      <td>7</td>\n    </tr>\n    <tr>\n      <th>1992</th>\n      <td>278418</td>\n      <td>Absolute Zero</td>\n      <td>5</td>\n    </tr>\n    <tr>\n      <th>1983</th>\n      <td>278418</td>\n      <td>Lucky You</td>\n      <td>5</td>\n    </tr>\n    <tr>\n      <th>1984</th>\n      <td>278418</td>\n      <td>CAT'S EYE</td>\n      <td>4</td>\n    </tr>\n    <tr>\n      <th>...</th>\n      <td>...</td>\n      <td>...</td>\n      <td>...</td>\n    </tr>\n    <tr>\n      <th>1936</th>\n      <td>278418</td>\n      <td>The Mad Dog 100 : The Greatest Sports Argument...</td>\n      <td>6</td>\n    </tr>\n    <tr>\n      <th>1935</th>\n      <td>278418</td>\n      <td>Tommy's Tale: A Novel</td>\n      <td>7</td>\n    </tr>\n    <tr>\n      <th>1934</th>\n      <td>278418</td>\n      <td>The Passion of Artemisia</td>\n      <td>5</td>\n    </tr>\n    <tr>\n      <th>1960</th>\n      <td>278418</td>\n      <td>Washington's Dirigible (Timeline Wars/John Bar...</td>\n      <td>9</td>\n    </tr>\n    <tr>\n      <th>1961</th>\n      <td>278418</td>\n      <td>The Shelters of Stone (Earth's Children Series...</td>\n      <td>5</td>\n    </tr>\n  </tbody>\n</table>\n<p>118 rows × 3 columns</p>\n</div>",
            "text/plain": "      User.ID                                         Book.Title  Book.Rating\n2417       19                                    The Murder Book            7\n1982   278418                                      City of Bones            7\n1992   278418                                      Absolute Zero            5\n1983   278418                                          Lucky You            5\n1984   278418                                          CAT'S EYE            4\n...       ...                                                ...          ...\n1936   278418  The Mad Dog 100 : The Greatest Sports Argument...            6\n1935   278418                              Tommy's Tale: A Novel            7\n1934   278418                           The Passion of Artemisia            5\n1960   278418  Washington's Dirigible (Timeline Wars/John Bar...            9\n1961   278418  The Shelters of Stone (Earth's Children Series...            5\n\n[118 rows x 3 columns]"
          },
          "execution_count": 61,
          "metadata": {},
          "output_type": "execute_result"
        }
      ]
    },
    {
      "metadata": {
        "ExecuteTime": {
          "end_time": "2023-06-04T18:03:00.203145Z",
          "start_time": "2023-06-04T18:03:00.180992Z"
        },
        "trusted": false
      },
      "id": "89ea4ad4",
      "cell_type": "code",
      "source": "reader1=book[(book['User.ID']==19)]\nreader1",
      "execution_count": 62,
      "outputs": [
        {
          "data": {
            "text/html": "<div>\n<style scoped>\n    .dataframe tbody tr th:only-of-type {\n        vertical-align: middle;\n    }\n\n    .dataframe tbody tr th {\n        vertical-align: top;\n    }\n\n    .dataframe thead th {\n        text-align: right;\n    }\n</style>\n<table border=\"1\" class=\"dataframe\">\n  <thead>\n    <tr style=\"text-align: right;\">\n      <th></th>\n      <th>User.ID</th>\n      <th>Book.Title</th>\n      <th>Book.Rating</th>\n    </tr>\n  </thead>\n  <tbody>\n    <tr>\n      <th>2417</th>\n      <td>19</td>\n      <td>The Murder Book</td>\n      <td>7</td>\n    </tr>\n  </tbody>\n</table>\n</div>",
            "text/plain": "      User.ID       Book.Title  Book.Rating\n2417       19  The Murder Book            7"
          },
          "execution_count": 62,
          "metadata": {},
          "output_type": "execute_result"
        }
      ]
    },
    {
      "metadata": {
        "ExecuteTime": {
          "end_time": "2023-06-04T18:03:25.361289Z",
          "start_time": "2023-06-04T18:03:25.328786Z"
        },
        "trusted": false
      },
      "id": "5ff11279",
      "cell_type": "code",
      "source": "reader2=book[(book['User.ID']==278418)]\nreader2",
      "execution_count": 63,
      "outputs": [
        {
          "data": {
            "text/html": "<div>\n<style scoped>\n    .dataframe tbody tr th:only-of-type {\n        vertical-align: middle;\n    }\n\n    .dataframe tbody tr th {\n        vertical-align: top;\n    }\n\n    .dataframe thead th {\n        text-align: right;\n    }\n</style>\n<table border=\"1\" class=\"dataframe\">\n  <thead>\n    <tr style=\"text-align: right;\">\n      <th></th>\n      <th>User.ID</th>\n      <th>Book.Title</th>\n      <th>Book.Rating</th>\n    </tr>\n  </thead>\n  <tbody>\n    <tr>\n      <th>1982</th>\n      <td>278418</td>\n      <td>City of Bones</td>\n      <td>7</td>\n    </tr>\n    <tr>\n      <th>1992</th>\n      <td>278418</td>\n      <td>Absolute Zero</td>\n      <td>5</td>\n    </tr>\n    <tr>\n      <th>1983</th>\n      <td>278418</td>\n      <td>Lucky You</td>\n      <td>5</td>\n    </tr>\n    <tr>\n      <th>1984</th>\n      <td>278418</td>\n      <td>CAT'S EYE</td>\n      <td>4</td>\n    </tr>\n    <tr>\n      <th>1985</th>\n      <td>278418</td>\n      <td>The Handmaid's Tale</td>\n      <td>5</td>\n    </tr>\n    <tr>\n      <th>...</th>\n      <td>...</td>\n      <td>...</td>\n      <td>...</td>\n    </tr>\n    <tr>\n      <th>1936</th>\n      <td>278418</td>\n      <td>The Mad Dog 100 : The Greatest Sports Argument...</td>\n      <td>6</td>\n    </tr>\n    <tr>\n      <th>1935</th>\n      <td>278418</td>\n      <td>Tommy's Tale: A Novel</td>\n      <td>7</td>\n    </tr>\n    <tr>\n      <th>1934</th>\n      <td>278418</td>\n      <td>The Passion of Artemisia</td>\n      <td>5</td>\n    </tr>\n    <tr>\n      <th>1960</th>\n      <td>278418</td>\n      <td>Washington's Dirigible (Timeline Wars/John Bar...</td>\n      <td>9</td>\n    </tr>\n    <tr>\n      <th>1961</th>\n      <td>278418</td>\n      <td>The Shelters of Stone (Earth's Children Series...</td>\n      <td>5</td>\n    </tr>\n  </tbody>\n</table>\n<p>117 rows × 3 columns</p>\n</div>",
            "text/plain": "      User.ID                                         Book.Title  Book.Rating\n1982   278418                                      City of Bones            7\n1992   278418                                      Absolute Zero            5\n1983   278418                                          Lucky You            5\n1984   278418                                          CAT'S EYE            4\n1985   278418                                The Handmaid's Tale            5\n...       ...                                                ...          ...\n1936   278418  The Mad Dog 100 : The Greatest Sports Argument...            6\n1935   278418                              Tommy's Tale: A Novel            7\n1934   278418                           The Passion of Artemisia            5\n1960   278418  Washington's Dirigible (Timeline Wars/John Bar...            9\n1961   278418  The Shelters of Stone (Earth's Children Series...            5\n\n[117 rows x 3 columns]"
          },
          "execution_count": 63,
          "metadata": {},
          "output_type": "execute_result"
        }
      ]
    },
    {
      "metadata": {
        "ExecuteTime": {
          "end_time": "2023-06-04T18:04:56.270742Z",
          "start_time": "2023-06-04T18:04:56.165503Z"
        },
        "trusted": false
      },
      "id": "4fdf0c40",
      "cell_type": "code",
      "source": "pd.merge(reader1,reader2,on='Book.Title',how='outer')",
      "execution_count": 64,
      "outputs": [
        {
          "data": {
            "text/html": "<div>\n<style scoped>\n    .dataframe tbody tr th:only-of-type {\n        vertical-align: middle;\n    }\n\n    .dataframe tbody tr th {\n        vertical-align: top;\n    }\n\n    .dataframe thead th {\n        text-align: right;\n    }\n</style>\n<table border=\"1\" class=\"dataframe\">\n  <thead>\n    <tr style=\"text-align: right;\">\n      <th></th>\n      <th>User.ID_x</th>\n      <th>Book.Title</th>\n      <th>Book.Rating_x</th>\n      <th>User.ID_y</th>\n      <th>Book.Rating_y</th>\n    </tr>\n  </thead>\n  <tbody>\n    <tr>\n      <th>0</th>\n      <td>19.0</td>\n      <td>The Murder Book</td>\n      <td>7.0</td>\n      <td>278418</td>\n      <td>6</td>\n    </tr>\n    <tr>\n      <th>1</th>\n      <td>NaN</td>\n      <td>City of Bones</td>\n      <td>NaN</td>\n      <td>278418</td>\n      <td>7</td>\n    </tr>\n    <tr>\n      <th>2</th>\n      <td>NaN</td>\n      <td>Absolute Zero</td>\n      <td>NaN</td>\n      <td>278418</td>\n      <td>5</td>\n    </tr>\n    <tr>\n      <th>3</th>\n      <td>NaN</td>\n      <td>Lucky You</td>\n      <td>NaN</td>\n      <td>278418</td>\n      <td>5</td>\n    </tr>\n    <tr>\n      <th>4</th>\n      <td>NaN</td>\n      <td>CAT'S EYE</td>\n      <td>NaN</td>\n      <td>278418</td>\n      <td>4</td>\n    </tr>\n    <tr>\n      <th>...</th>\n      <td>...</td>\n      <td>...</td>\n      <td>...</td>\n      <td>...</td>\n      <td>...</td>\n    </tr>\n    <tr>\n      <th>112</th>\n      <td>NaN</td>\n      <td>The Mad Dog 100 : The Greatest Sports Argument...</td>\n      <td>NaN</td>\n      <td>278418</td>\n      <td>6</td>\n    </tr>\n    <tr>\n      <th>113</th>\n      <td>NaN</td>\n      <td>Tommy's Tale: A Novel</td>\n      <td>NaN</td>\n      <td>278418</td>\n      <td>7</td>\n    </tr>\n    <tr>\n      <th>114</th>\n      <td>NaN</td>\n      <td>The Passion of Artemisia</td>\n      <td>NaN</td>\n      <td>278418</td>\n      <td>5</td>\n    </tr>\n    <tr>\n      <th>115</th>\n      <td>NaN</td>\n      <td>Washington's Dirigible (Timeline Wars/John Bar...</td>\n      <td>NaN</td>\n      <td>278418</td>\n      <td>9</td>\n    </tr>\n    <tr>\n      <th>116</th>\n      <td>NaN</td>\n      <td>The Shelters of Stone (Earth's Children Series...</td>\n      <td>NaN</td>\n      <td>278418</td>\n      <td>5</td>\n    </tr>\n  </tbody>\n</table>\n<p>117 rows × 5 columns</p>\n</div>",
            "text/plain": "     User.ID_x                                         Book.Title  \\\n0         19.0                                    The Murder Book   \n1          NaN                                      City of Bones   \n2          NaN                                      Absolute Zero   \n3          NaN                                          Lucky You   \n4          NaN                                          CAT'S EYE   \n..         ...                                                ...   \n112        NaN  The Mad Dog 100 : The Greatest Sports Argument...   \n113        NaN                              Tommy's Tale: A Novel   \n114        NaN                           The Passion of Artemisia   \n115        NaN  Washington's Dirigible (Timeline Wars/John Bar...   \n116        NaN  The Shelters of Stone (Earth's Children Series...   \n\n     Book.Rating_x  User.ID_y  Book.Rating_y  \n0              7.0     278418              6  \n1              NaN     278418              7  \n2              NaN     278418              5  \n3              NaN     278418              5  \n4              NaN     278418              4  \n..             ...        ...            ...  \n112            NaN     278418              6  \n113            NaN     278418              7  \n114            NaN     278418              5  \n115            NaN     278418              9  \n116            NaN     278418              5  \n\n[117 rows x 5 columns]"
          },
          "execution_count": 64,
          "metadata": {},
          "output_type": "execute_result"
        }
      ]
    }
  ],
  "metadata": {
    "kernelspec": {
      "name": "python3",
      "display_name": "Python 3 (ipykernel)",
      "language": "python"
    },
    "language_info": {
      "name": "python",
      "version": "3.9.12",
      "mimetype": "text/x-python",
      "codemirror_mode": {
        "name": "ipython",
        "version": 3
      },
      "pygments_lexer": "ipython3",
      "nbconvert_exporter": "python",
      "file_extension": ".py"
    },
    "gist": {
      "id": "",
      "data": {
        "description": "Assignment 10 Recommendation System.ipynb",
        "public": true
      }
    }
  },
  "nbformat": 4,
  "nbformat_minor": 5
}